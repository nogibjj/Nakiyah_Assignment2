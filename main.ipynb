{
 "cells": [
  {
   "cell_type": "code",
   "execution_count": 1,
   "metadata": {},
   "outputs": [],
   "source": [
    "import pandas as pd\n",
    "import matplotlib.pyplot as plt\n",
    "from fpdf import FPDF"
   ]
  },
  {
   "cell_type": "code",
   "execution_count": null,
   "metadata": {},
   "outputs": [],
   "source": [
    "# Function reading the csv file\n",
    "def readData(df):\n",
    "    return pd.read_csv(df)"
   ]
  },
  {
   "cell_type": "code",
   "execution_count": null,
   "metadata": {},
   "outputs": [],
   "source": [
    "# Function cleaning the data\n",
    "def cleanData(df, Columns, Duplicate):\n",
    "    dfCleaned = df.drop_duplicates(subset=Duplicate, keep=\"first\")\n",
    "    dfCleaned = dfCleaned[Columns]\n",
    "    return dfCleaned"
   ]
  },
  {
   "cell_type": "code",
   "execution_count": null,
   "metadata": {},
   "outputs": [],
   "source": [
    "# Creating Summary Statistics\n",
    "def summaryStatistics(df):\n",
    "    SumStats = df.describe(exclude=[\"O\"]).reset_index()\n",
    "    Median = df.median(numeric_only=True)\n",
    "    Median_df = pd.DataFrame(Median).T  # Transpose to match the structure of SumStats\n",
    "    SumStats = pd.concat([SumStats, Median_df], ignore_index=True)\n",
    "    SumStats.fillna(\"median\", inplace=True)\n",
    "    SumStats.set_index(\"index\", inplace=True)\n",
    "    return SumStats"
   ]
  },
  {
   "cell_type": "code",
   "execution_count": null,
   "metadata": {},
   "outputs": [],
   "source": [
    "# Creating a Stacked Plot\n",
    "def stackPlot(df, xVal, StackVal):\n",
    "    PivotData = df.groupby([xVal, StackVal]).size().unstack().fillna(0)\n",
    "    PivotData.plot(kind=\"bar\", stacked=True, figsize=(12, 8), colormap=\"tab20\")\n",
    "    plt.title(f\"Distribution of {StackVal} by {xVal}\")\n",
    "    plt.xlabel(f\"{xVal}\")\n",
    "    plt.ylabel(\"Count\")\n",
    "    plt.legend(title=f\"{StackVal}\", bbox_to_anchor=(1.05, 1), loc=\"upper left\")\n",
    "    plt.tight_layout()\n",
    "\n",
    "    # Save the plot to a file\n",
    "    plt.savefig(\"stack_plot.png\")\n",
    "    plt.close()\n",
    "    return \"stack_plot.png\""
   ]
  },
  {
   "cell_type": "code",
   "execution_count": null,
   "metadata": {},
   "outputs": [],
   "source": [
    "# Creating a Box Plot\n",
    "def barPlot(df, xVal, yVal, Segregate):\n",
    "    GroupingData = df.groupby([yVal, Segregate])[xVal].mean().unstack()\n",
    "    GroupingData.plot(kind=\"barh\", color=[\"#FFD0EC\", \"#E59BE9\"])\n",
    "    plt.xlabel(f\"Average {xVal}\")\n",
    "    plt.ylabel(f\"{yVal}\")\n",
    "    plt.title(f\"Average {xVal} by {yVal} and {Segregate}\")\n",
    "    plt.legend(title=\"Gender\", bbox_to_anchor=(1.05, 1), loc=\"upper left\")\n",
    "    plt.tight_layout()\n",
    "\n",
    "    # Save the plot to a file\n",
    "    plt.savefig(\"bar_plot.png\")\n",
    "    plt.close()\n",
    "    return \"bar_plot.png\""
   ]
  },
  {
   "cell_type": "code",
   "execution_count": null,
   "metadata": {},
   "outputs": [],
   "source": [
    "def writeToPDF(Summary, graph1, graph2):\n",
    "\n",
    "    # Writing data into PDF\n",
    "    pdf = FPDF(format=\"letter\")\n",
    "    pdf.add_page()\n",
    "    pdf.set_font(\"Times\", size=12)\n",
    "\n",
    "    # Add Title\n",
    "    pdf.set_font(\"Times\", \"B\", 14)\n",
    "    pdf.cell(200, 10, txt=\"Summary Statistics\", ln=True, align=\"C\")\n",
    "    pdf.ln(10)\n",
    "\n",
    "    # Add Summary Statistics as a Table\n",
    "    page_width = 190  # Approximate width of the PDF page after margins\n",
    "    col_width = page_width / (\n",
    "        len(Summary.columns) + 1\n",
    "    )  # Divide width equally among all columns\n",
    "\n",
    "    # Add headers\n",
    "    pdf.set_font(\"Times\", \"B\", 12)\n",
    "    pdf.cell(col_width, 10, \"Metric\", border=1)\n",
    "    for col in Summary.columns:\n",
    "        pdf.cell(col_width, 10, col, border=1)\n",
    "    pdf.ln()\n",
    "\n",
    "    # Add rows for each metric\n",
    "    pdf.set_font(\"Times\", size=12)\n",
    "    for i, row in Summary.iterrows():\n",
    "        pdf.cell(col_width, 10, str(i), border=1)\n",
    "        for col in Summary.columns:\n",
    "            pdf.cell(col_width, 10, str(row[col]), border=1)\n",
    "        pdf.ln()\n",
    "\n",
    "    # Add Plots to PDF\n",
    "    # Add Stacked Plot to PDF\n",
    "    pdf.add_page()\n",
    "    pdf.ln(10)\n",
    "    pdf.set_font(\"Times\", \"B\", 14)\n",
    "    pdf.cell(200, 10, txt=\"Stacked Plot\", ln=True, align=\"C\")\n",
    "    pdf.ln(10)\n",
    "    pdf.image(graph1, x=10, y=pdf.get_y(), w=180)\n",
    "    pdf.ln(10)\n",
    "\n",
    "    # Add Bar Plot to PDF\n",
    "    pdf.add_page()\n",
    "    pdf.set_font(\"Times\", \"B\", 14)\n",
    "    pdf.cell(200, 10, txt=\"Bar Plot\", ln=True, align=\"C\")\n",
    "    pdf.ln(10)\n",
    "    pdf.image(graph2, x=10, y=pdf.get_y(), w=180)\n",
    "\n",
    "    # Save PDF\n",
    "    pdf.output(\"summary_statistics_report.pdf\")\n",
    "    return \"PDF file created\""
   ]
  },
  {
   "cell_type": "code",
   "execution_count": null,
   "metadata": {},
   "outputs": [],
   "source": [
    "# Initializing Variables\n",
    "Dataset = \"Sleep_health_and_lifestyle_dataset.csv\"\n",
    "RequiredColumns = [\"Gender\", \"Occupation\", \"Sleep Duration\", \"Quality of Sleep\"]\n",
    "\n",
    "DuplicateValues = \"Person ID\"\n",
    "Gender = \"Gender\"\n",
    "Occupation = \"Occupation\"\n",
    "SleepHours = \"Sleep Duration\"\n",
    "SleepQuality = \"Quality of Sleep\""
   ]
  },
  {
   "cell_type": "code",
   "execution_count": null,
   "metadata": {},
   "outputs": [],
   "source": [
    "# Calling Functions\n",
    "Data = readData(Dataset)\n",
    "CleanData = cleanData(Data, RequiredColumns, DuplicateValues)\n",
    "SummaryStatistics = summaryStatistics(CleanData)\n",
    "StackPlot = stackPlot(CleanData, SleepHours, Occupation)\n",
    "BarPlot = barPlot(CleanData, SleepQuality, Occupation, Gender)\n",
    "Output = writeToPDF(SummaryStatistics, StackPlot, BarPlot)\n",
    "\n",
    "print(\"Everything works great!\")"
   ]
  }
 ],
 "metadata": {
  "kernelspec": {
   "display_name": "Python 3",
   "language": "python",
   "name": "python3"
  },
  "language_info": {
   "codemirror_mode": {
    "name": "ipython",
    "version": 3
   },
   "file_extension": ".py",
   "mimetype": "text/x-python",
   "name": "python",
   "nbconvert_exporter": "python",
   "pygments_lexer": "ipython3",
   "version": "3.11.2"
  }
 },
 "nbformat": 4,
 "nbformat_minor": 2
}
