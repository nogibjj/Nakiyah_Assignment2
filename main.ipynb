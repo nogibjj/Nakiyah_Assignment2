{
 "cells": [
  {
   "cell_type": "code",
   "execution_count": 1,
   "metadata": {},
   "outputs": [],
   "source": [
    "import pandas as pd\n",
    "import matplotlib.pyplot as plt"
   ]
  },
  {
   "cell_type": "code",
   "execution_count": 2,
   "metadata": {},
   "outputs": [],
   "source": [
    "# Initializing Variables\n",
    "Dataset = \"Sleep_health_and_lifestyle_dataset.csv\"\n",
    "RequiredColumns = [\"Gender\", \"Occupation\", \"Sleep Duration\", \"Quality of Sleep\"]\n",
    "DuplicateValues = \"Person ID\"\n",
    "\n",
    "# Reading Data\n",
    "Data = pd.read_csv(Dataset)\n",
    "\n",
    "# Cleaning Data\n",
    "CleanData = Data.drop_duplicates(subset=DuplicateValues, keep=\"first\")\n",
    "CleanData = CleanData[RequiredColumns]"
   ]
  },
  {
   "cell_type": "code",
   "execution_count": 3,
   "metadata": {},
   "outputs": [
    {
     "name": "stdout",
     "output_type": "stream",
     "text": [
      "        Sleep Duration  Quality of Sleep\n",
      "index                                   \n",
      "count       374.000000        374.000000\n",
      "mean          7.132086          7.312834\n",
      "std           0.795657          1.196956\n",
      "min           5.800000          4.000000\n",
      "25%           6.400000          6.000000\n",
      "50%           7.200000          7.000000\n",
      "75%           7.800000          8.000000\n",
      "max           8.500000          9.000000\n",
      "median        7.200000          7.000000\n"
     ]
    }
   ],
   "source": [
    "# Creating Summary Statistics\n",
    "SumStats = CleanData.describe(exclude=[\"O\"]).reset_index()\n",
    "Median = CleanData.median(numeric_only=True)\n",
    "Median_df = pd.DataFrame(Median).T  # Transpose to match the structure of SumStats\n",
    "SumStats = pd.concat([SumStats, Median_df], ignore_index=True)\n",
    "SumStats.fillna(\"median\", inplace=True)\n",
    "SumStats.set_index(\"index\", inplace=True)\n",
    "\n",
    "# Display Summary Statistics\n",
    "print(SumStats)"
   ]
  },
  {
   "cell_type": "code",
   "execution_count": 4,
   "metadata": {},
   "outputs": [],
   "source": [
    "# Creating a Stacked Plot\n",
    "xVal = \"Sleep Duration\"\n",
    "StackVal = \"Occupation\"\n",
    "PivotData = CleanData.groupby([xVal, StackVal]).size().unstack().fillna(0)\n",
    "PivotData.plot(kind=\"bar\", stacked=True, figsize=(12, 8), colormap=\"tab20\")\n",
    "plt.title(f\"Distribution of {StackVal} by {xVal}\")\n",
    "plt.xlabel(f\"{xVal}\")\n",
    "plt.ylabel(\"Count\")\n",
    "plt.legend(title=f\"{StackVal}\", bbox_to_anchor=(1.05, 1), loc=\"upper left\")\n",
    "plt.tight_layout()\n",
    "\n",
    "# Save Stacked Plot to file\n",
    "stack_plot_file = \"stack_plot.png\"\n",
    "plt.savefig(stack_plot_file)\n",
    "plt.close()\n",
    "\n",
    "# Creating a Bar Plot\n",
    "yVal = \"Quality of Sleep\"\n",
    "Segregate = \"Gender\"\n",
    "GroupingData = CleanData.groupby([yVal, Segregate])[xVal].mean().unstack()\n",
    "GroupingData.plot(kind=\"barh\", color=[\"#FFD0EC\", \"#E59BE9\"])\n",
    "plt.xlabel(f\"Average {xVal}\")\n",
    "plt.ylabel(f\"{yVal}\")\n",
    "plt.title(f\"Average {xVal} by {yVal} and {Segregate}\")\n",
    "plt.legend(title=\"Gender\", loc=\"best\")\n",
    "plt.tight_layout()\n",
    "\n",
    "# Save Bar Plot to file\n",
    "bar_plot_file = \"bar_plot.png\"\n",
    "plt.savefig(bar_plot_file)\n",
    "plt.close()\n"
   ]
  },
  {
   "cell_type": "code",
   "execution_count": null,
   "metadata": {},
   "outputs": [],
   "source": [
    "# Initialize PDF\n",
    "pdf = FPDF(format='letter')\n",
    "pdf.add_page()\n",
    "pdf.set_font(\"Arial\", size=12)\n",
    "\n",
    "# Add Title\n",
    "pdf.set_font(\"Arial\", 'B', 14)\n",
    "pdf.cell(200, 10, txt=\"Summary Statistics\", ln=True, align='C')\n",
    "pdf.ln(10)\n",
    "\n",
    "# Add Summary Statistics\n",
    "pdf.set_font(\"Arial\", size=12)\n",
    "pdf.multi_cell(0, 10, txt=\"Summary Statistics:\\n\")\n",
    "for col in SumStats.columns:\n",
    "    pdf.cell(0, 10, txt=f\"{col}: {SumStats[col].to_list()}\", ln=True)\n",
    "\n",
    "# Add Plots to PDF\n",
    "pdf.ln(10)\n",
    "pdf.set_font(\"Arial\", 'B', 14)\n",
    "pdf.cell(200, 10, txt=\"Stacked Plot\", ln=True, align='C')\n",
    "pdf.ln(10)\n",
    "\n",
    "# Add Stacked Plot to PDF\n",
    "pdf.image(stack_plot_file, x=10, y=pdf.get_y(), w=180)\n",
    "pdf.ln(10)\n",
    "\n",
    "pdf.set_font(\"Arial\", 'B', 14)\n",
    "pdf.cell(200, 10, txt=\"Bar Plot\", ln=True, align='C')\n",
    "pdf.ln(10)\n",
    "\n",
    "# Add Bar Plot to PDF\n",
    "pdf.image(bar_plot_file, x=10, y=pdf.get_y(), w=180)\n",
    "\n",
    "# Save PDF\n",
    "pdf.output(\"summary_statistics_report.pdf\")\n"
   ]
  }
 ],
 "metadata": {
  "kernelspec": {
   "display_name": "Python 3",
   "language": "python",
   "name": "python3"
  },
  "language_info": {
   "codemirror_mode": {
    "name": "ipython",
    "version": 3
   },
   "file_extension": ".py",
   "mimetype": "text/x-python",
   "name": "python",
   "nbconvert_exporter": "python",
   "pygments_lexer": "ipython3",
   "version": "3.11.2"
  }
 },
 "nbformat": 4,
 "nbformat_minor": 2
}
